{
  "nbformat": 4,
  "nbformat_minor": 0,
  "metadata": {
    "colab": {
      "provenance": [],
      "mount_file_id": "1E_ostvlyRCjwPPK6vkDbarSYe3zzDVNg",
      "authorship_tag": "ABX9TyO88G9lZZgMZY7he/cYY/Ck",
      "include_colab_link": true
    },
    "kernelspec": {
      "name": "python3",
      "display_name": "Python 3"
    },
    "language_info": {
      "name": "python"
    }
  },
  "cells": [
    {
      "cell_type": "markdown",
      "metadata": {
        "id": "view-in-github",
        "colab_type": "text"
      },
      "source": [
        "<a href=\"https://colab.research.google.com/github/FREDY129053/Practise_Temp/blob/main/Practise_Veg_Fru.ipynb\" target=\"_parent\"><img src=\"https://colab.research.google.com/assets/colab-badge.svg\" alt=\"Open In Colab\"/></a>"
      ]
    },
    {
      "cell_type": "markdown",
      "source": [
        "##**Подгрузка данных из датасета**\n",
        "\n",
        "---\n",
        "\n"
      ],
      "metadata": {
        "id": "m5fhw9gSnte-"
      }
    },
    {
      "cell_type": "code",
      "source": [
        "from google.colab import drive\n",
        "\n",
        "drive.mount('/content/drive')"
      ],
      "metadata": {
        "colab": {
          "base_uri": "https://localhost:8080/"
        },
        "id": "1A4NxSm-pFdc",
        "outputId": "5d06cd26-252c-4f83-86c6-1d3d542a6f95"
      },
      "execution_count": 1,
      "outputs": [
        {
          "output_type": "stream",
          "name": "stdout",
          "text": [
            "Mounted at /content/drive\n"
          ]
        }
      ]
    },
    {
      "cell_type": "code",
      "source": [
        "!pip install -q kaggle  # Установка зависимости для скачки датасета"
      ],
      "metadata": {
        "id": "VEAlqbhx3Wnl"
      },
      "execution_count": null,
      "outputs": []
    },
    {
      "cell_type": "code",
      "source": [
        "from google.colab import files\n",
        "\n",
        "files.upload()  # Загрузка файла с данными от Kaggle API"
      ],
      "metadata": {
        "colab": {
          "base_uri": "https://localhost:8080/",
          "height": 90
        },
        "id": "DaCt30Ep3w8C",
        "outputId": "28967076-3d03-46ad-8e17-eb6d85b89840"
      },
      "execution_count": null,
      "outputs": [
        {
          "output_type": "display_data",
          "data": {
            "text/plain": [
              "<IPython.core.display.HTML object>"
            ],
            "text/html": [
              "\n",
              "     <input type=\"file\" id=\"files-a34dca8d-d08f-4da3-902f-4cfbda6cbd46\" name=\"files[]\" multiple disabled\n",
              "        style=\"border:none\" />\n",
              "     <output id=\"result-a34dca8d-d08f-4da3-902f-4cfbda6cbd46\">\n",
              "      Upload widget is only available when the cell has been executed in the\n",
              "      current browser session. Please rerun this cell to enable.\n",
              "      </output>\n",
              "      <script>// Copyright 2017 Google LLC\n",
              "//\n",
              "// Licensed under the Apache License, Version 2.0 (the \"License\");\n",
              "// you may not use this file except in compliance with the License.\n",
              "// You may obtain a copy of the License at\n",
              "//\n",
              "//      http://www.apache.org/licenses/LICENSE-2.0\n",
              "//\n",
              "// Unless required by applicable law or agreed to in writing, software\n",
              "// distributed under the License is distributed on an \"AS IS\" BASIS,\n",
              "// WITHOUT WARRANTIES OR CONDITIONS OF ANY KIND, either express or implied.\n",
              "// See the License for the specific language governing permissions and\n",
              "// limitations under the License.\n",
              "\n",
              "/**\n",
              " * @fileoverview Helpers for google.colab Python module.\n",
              " */\n",
              "(function(scope) {\n",
              "function span(text, styleAttributes = {}) {\n",
              "  const element = document.createElement('span');\n",
              "  element.textContent = text;\n",
              "  for (const key of Object.keys(styleAttributes)) {\n",
              "    element.style[key] = styleAttributes[key];\n",
              "  }\n",
              "  return element;\n",
              "}\n",
              "\n",
              "// Max number of bytes which will be uploaded at a time.\n",
              "const MAX_PAYLOAD_SIZE = 100 * 1024;\n",
              "\n",
              "function _uploadFiles(inputId, outputId) {\n",
              "  const steps = uploadFilesStep(inputId, outputId);\n",
              "  const outputElement = document.getElementById(outputId);\n",
              "  // Cache steps on the outputElement to make it available for the next call\n",
              "  // to uploadFilesContinue from Python.\n",
              "  outputElement.steps = steps;\n",
              "\n",
              "  return _uploadFilesContinue(outputId);\n",
              "}\n",
              "\n",
              "// This is roughly an async generator (not supported in the browser yet),\n",
              "// where there are multiple asynchronous steps and the Python side is going\n",
              "// to poll for completion of each step.\n",
              "// This uses a Promise to block the python side on completion of each step,\n",
              "// then passes the result of the previous step as the input to the next step.\n",
              "function _uploadFilesContinue(outputId) {\n",
              "  const outputElement = document.getElementById(outputId);\n",
              "  const steps = outputElement.steps;\n",
              "\n",
              "  const next = steps.next(outputElement.lastPromiseValue);\n",
              "  return Promise.resolve(next.value.promise).then((value) => {\n",
              "    // Cache the last promise value to make it available to the next\n",
              "    // step of the generator.\n",
              "    outputElement.lastPromiseValue = value;\n",
              "    return next.value.response;\n",
              "  });\n",
              "}\n",
              "\n",
              "/**\n",
              " * Generator function which is called between each async step of the upload\n",
              " * process.\n",
              " * @param {string} inputId Element ID of the input file picker element.\n",
              " * @param {string} outputId Element ID of the output display.\n",
              " * @return {!Iterable<!Object>} Iterable of next steps.\n",
              " */\n",
              "function* uploadFilesStep(inputId, outputId) {\n",
              "  const inputElement = document.getElementById(inputId);\n",
              "  inputElement.disabled = false;\n",
              "\n",
              "  const outputElement = document.getElementById(outputId);\n",
              "  outputElement.innerHTML = '';\n",
              "\n",
              "  const pickedPromise = new Promise((resolve) => {\n",
              "    inputElement.addEventListener('change', (e) => {\n",
              "      resolve(e.target.files);\n",
              "    });\n",
              "  });\n",
              "\n",
              "  const cancel = document.createElement('button');\n",
              "  inputElement.parentElement.appendChild(cancel);\n",
              "  cancel.textContent = 'Cancel upload';\n",
              "  const cancelPromise = new Promise((resolve) => {\n",
              "    cancel.onclick = () => {\n",
              "      resolve(null);\n",
              "    };\n",
              "  });\n",
              "\n",
              "  // Wait for the user to pick the files.\n",
              "  const files = yield {\n",
              "    promise: Promise.race([pickedPromise, cancelPromise]),\n",
              "    response: {\n",
              "      action: 'starting',\n",
              "    }\n",
              "  };\n",
              "\n",
              "  cancel.remove();\n",
              "\n",
              "  // Disable the input element since further picks are not allowed.\n",
              "  inputElement.disabled = true;\n",
              "\n",
              "  if (!files) {\n",
              "    return {\n",
              "      response: {\n",
              "        action: 'complete',\n",
              "      }\n",
              "    };\n",
              "  }\n",
              "\n",
              "  for (const file of files) {\n",
              "    const li = document.createElement('li');\n",
              "    li.append(span(file.name, {fontWeight: 'bold'}));\n",
              "    li.append(span(\n",
              "        `(${file.type || 'n/a'}) - ${file.size} bytes, ` +\n",
              "        `last modified: ${\n",
              "            file.lastModifiedDate ? file.lastModifiedDate.toLocaleDateString() :\n",
              "                                    'n/a'} - `));\n",
              "    const percent = span('0% done');\n",
              "    li.appendChild(percent);\n",
              "\n",
              "    outputElement.appendChild(li);\n",
              "\n",
              "    const fileDataPromise = new Promise((resolve) => {\n",
              "      const reader = new FileReader();\n",
              "      reader.onload = (e) => {\n",
              "        resolve(e.target.result);\n",
              "      };\n",
              "      reader.readAsArrayBuffer(file);\n",
              "    });\n",
              "    // Wait for the data to be ready.\n",
              "    let fileData = yield {\n",
              "      promise: fileDataPromise,\n",
              "      response: {\n",
              "        action: 'continue',\n",
              "      }\n",
              "    };\n",
              "\n",
              "    // Use a chunked sending to avoid message size limits. See b/62115660.\n",
              "    let position = 0;\n",
              "    do {\n",
              "      const length = Math.min(fileData.byteLength - position, MAX_PAYLOAD_SIZE);\n",
              "      const chunk = new Uint8Array(fileData, position, length);\n",
              "      position += length;\n",
              "\n",
              "      const base64 = btoa(String.fromCharCode.apply(null, chunk));\n",
              "      yield {\n",
              "        response: {\n",
              "          action: 'append',\n",
              "          file: file.name,\n",
              "          data: base64,\n",
              "        },\n",
              "      };\n",
              "\n",
              "      let percentDone = fileData.byteLength === 0 ?\n",
              "          100 :\n",
              "          Math.round((position / fileData.byteLength) * 100);\n",
              "      percent.textContent = `${percentDone}% done`;\n",
              "\n",
              "    } while (position < fileData.byteLength);\n",
              "  }\n",
              "\n",
              "  // All done.\n",
              "  yield {\n",
              "    response: {\n",
              "      action: 'complete',\n",
              "    }\n",
              "  };\n",
              "}\n",
              "\n",
              "scope.google = scope.google || {};\n",
              "scope.google.colab = scope.google.colab || {};\n",
              "scope.google.colab._files = {\n",
              "  _uploadFiles,\n",
              "  _uploadFilesContinue,\n",
              "};\n",
              "})(self);\n",
              "</script> "
            ]
          },
          "metadata": {}
        },
        {
          "output_type": "stream",
          "name": "stdout",
          "text": [
            "Saving kaggle.json to kaggle.json\n"
          ]
        },
        {
          "output_type": "execute_result",
          "data": {
            "text/plain": [
              "{'kaggle.json': b'{\"username\":\"fredy129053\",\"key\":\"732172104435df3745774c6e74467316\"}'}"
            ]
          },
          "metadata": {},
          "execution_count": 3
        }
      ]
    },
    {
      "cell_type": "code",
      "source": [
        "!mkdir ~/.kaggle  # Создание папки для данных Kaggle"
      ],
      "metadata": {
        "id": "ZOKJiH7t4Iak"
      },
      "execution_count": null,
      "outputs": []
    },
    {
      "cell_type": "code",
      "source": [
        "!cp kaggle.json ~/.kaggle/  # Перенос файла в папку"
      ],
      "metadata": {
        "id": "UiFPLhWT4PB2"
      },
      "execution_count": null,
      "outputs": []
    },
    {
      "cell_type": "code",
      "source": [
        "!chmod 600 ~/.kaggle/kaggle.json  # Задаем права на файл"
      ],
      "metadata": {
        "id": "a_eoSBUN4fuG"
      },
      "execution_count": null,
      "outputs": []
    },
    {
      "cell_type": "code",
      "source": [
        "!kaggle datasets download -d kritikseth/fruit-and-vegetable-image-recognition  # Скачиваем датасет"
      ],
      "metadata": {
        "colab": {
          "base_uri": "https://localhost:8080/"
        },
        "id": "qPtfjWFn51Yw",
        "outputId": "e38361dc-80f7-4c68-80c5-36d4da25231e"
      },
      "execution_count": null,
      "outputs": [
        {
          "output_type": "stream",
          "name": "stdout",
          "text": [
            "Downloading fruit-and-vegetable-image-recognition.zip to /content\n",
            "100% 1.98G/1.98G [00:28<00:00, 97.9MB/s]\n",
            "100% 1.98G/1.98G [00:28<00:00, 75.7MB/s]\n"
          ]
        }
      ]
    },
    {
      "cell_type": "code",
      "source": [
        "!unzip fruit-and-vegetable-image-recognition.zip  # Распаковываем датасет"
      ],
      "metadata": {
        "id": "q5rSvBMO60ln"
      },
      "execution_count": null,
      "outputs": []
    },
    {
      "cell_type": "code",
      "source": [
        "!mkdir /content/drive/MyDrive/Fruits_and_Vegetables_Datset"
      ],
      "metadata": {
        "id": "aKWPEIB7pup2"
      },
      "execution_count": null,
      "outputs": []
    },
    {
      "cell_type": "code",
      "source": [
        "!cp -r /content/test /content/drive/MyDrive/Fruits_and_Vegetables_Datset/test"
      ],
      "metadata": {
        "id": "kv865bVNqA1Q"
      },
      "execution_count": null,
      "outputs": []
    },
    {
      "cell_type": "code",
      "source": [
        "!cp -r /content/train /content/drive/MyDrive/Fruits_and_Vegetables_Datset/train"
      ],
      "metadata": {
        "id": "u946kiA4qTH4"
      },
      "execution_count": null,
      "outputs": []
    },
    {
      "cell_type": "code",
      "source": [
        "!cp -r /content/validation /content/drive/MyDrive/Fruits_and_Vegetables_Datset/validation"
      ],
      "metadata": {
        "id": "paDVz9UvqTzd"
      },
      "execution_count": null,
      "outputs": []
    },
    {
      "cell_type": "markdown",
      "source": [
        "## Аугментация картинок"
      ],
      "metadata": {
        "id": "ptdBDx2qrv1u"
      }
    },
    {
      "cell_type": "code",
      "source": [
        "import os\n",
        "import numpy as np\n",
        "from keras.preprocessing.image import ImageDataGenerator, load_img, img_to_array\n",
        "\n",
        "# Путь к папке с изображениями\n",
        "folder_path = \"/content/drive/MyDrive/Fruits_and_Vegetables_Datset/train\"\n",
        "\n",
        "# Количество аугментаций на каждую картинку\n",
        "num_augmentations = 2\n",
        "\n",
        "# Параметры аугментации\n",
        "datagen = ImageDataGenerator(\n",
        "    rotation_range=90,\n",
        "    width_shift_range=0.4,\n",
        "    height_shift_range=0.4,\n",
        "    shear_range=0.4,\n",
        "    zoom_range=0.4,\n",
        "    horizontal_flip=True,\n",
        "    brightness_range=[0.2, 1.5],\n",
        "    fill_mode='nearest'\n",
        ")\n",
        "\n",
        "# Получаем список всех подпапок\n",
        "subfolders = [f.path for f in os.scandir(folder_path) if f.is_dir()]\n",
        "\n",
        "# Для каждой подпапки\n",
        "for subfolder in subfolders:\n",
        "    # Получаем список всех файлов изображений\n",
        "    image_files = [f.path for f in os.scandir(subfolder) if f.is_file() and f.name.endswith(('.png', '.jpg', '.jpeg'))]\n",
        "\n",
        "    # Для каждого изображения\n",
        "    for image_file in image_files:\n",
        "        # Загружаем изображение и преобразуем его в массив\n",
        "        img = load_img(image_file)\n",
        "        x = img_to_array(img)\n",
        "        x = np.expand_dims(x, axis=0)\n",
        "\n",
        "        # Генерируем и сохраняем аугментации\n",
        "        i = 0\n",
        "        for batch in datagen.flow(x, batch_size=1, save_to_dir=subfolder, save_prefix='MY_', save_format='jpeg'):\n",
        "            i += 1\n",
        "            if i >= num_augmentations:\n",
        "                break"
      ],
      "metadata": {
        "id": "uH9-gnNIrzBx"
      },
      "execution_count": null,
      "outputs": []
    },
    {
      "cell_type": "markdown",
      "source": [
        "## Тест модели VGG19"
      ],
      "metadata": {
        "id": "LOEBX4SosEJr"
      }
    },
    {
      "cell_type": "code",
      "source": [
        "import tensorflow as tf\n",
        "import numpy as np\n",
        "import matplotlib.pyplot as plt\n",
        "\n",
        "w, h = 224, 224\n",
        "\n",
        "training_set = tf.keras.utils.image_dataset_from_directory(\n",
        "    '/content/drive/MyDrive/Fruits_and_Vegetables_Datset/train',\n",
        "    labels='inferred',  # Формирование уровней на основе структуры датасета (яблоко, бананы и тд)\n",
        "    label_mode='categorical',  # Режим уровней и создание (в данном случае) векторной формы уровней\n",
        "    class_names=None,  # Список классов (папки итак отсортированы, можно не ставить)\n",
        "    color_mode='rgb',  # Режим картинок\n",
        "    batch_size=32,\n",
        "    image_size=(w, h),\n",
        "    shuffle=True,\n",
        "    seed=42,  # Смысл жизни\n",
        "    validation_split=None,\n",
        "    subset=None,\n",
        "    interpolation='bilinear',  # Нужно для алгоритма сжатия картинок\n",
        "    follow_links=False,  # Переход по символьным ссылкам папок нахер\n",
        "    crop_to_aspect_ratio=False  # обрезать тоже не надо\n",
        ")\n",
        "\n",
        "validation_set = tf.keras.utils.image_dataset_from_directory(\n",
        "    '/content/drive/MyDrive/Fruits_and_Vegetables_Datset/validation',\n",
        "    labels='inferred',  # Формирование уровней на основе структуры датасета (яблоко, бананы и тд)\n",
        "    label_mode='categorical',  # Режим уровней и создание (в данном случае) векторной формы уровней\n",
        "    class_names=None,  # Список классов (папки итак отсортированы, можно не ставить)\n",
        "    color_mode='rgb',  # Режим картинок\n",
        "    batch_size=32,\n",
        "    image_size=(w, h),\n",
        "    shuffle=True,\n",
        "    seed=42,  # Смысл жизни\n",
        "    validation_split=None,\n",
        "    subset=None,\n",
        "    interpolation='bilinear',  # Нужно для алгоритма сжатия картинок\n",
        "    follow_links=False,  # Переход по символьным ссылкам папок нахер\n",
        "    crop_to_aspect_ratio=False  # обрезать тоже не надо\n",
        ")\n",
        "\n",
        "conv_model = tf.keras.applications.VGG19(weights='imagenet', include_top=False, input_shape=(224,224,3))\n",
        "\n",
        "x = tf.keras.layers.Flatten()(conv_model.output)\n",
        "\n",
        "x = tf.keras.layers.Dense(100, activation='relu')(x)\n",
        "x = tf.keras.layers.Dense(100, activation='relu')(x)\n",
        "x = tf.keras.layers.Dense(100, activation='relu')(x)\n",
        "\n",
        "predictions = tf.keras.layers.Dense(36, activation='softmax')(x)\n",
        "\n",
        "full_model = tf.keras.models.Model(inputs=conv_model.input, outputs=predictions)\n",
        "full_model.summary()\n"
      ],
      "metadata": {
        "id": "v9NswMh-sGl5",
        "outputId": "4dfcdc92-6af4-49c6-9c91-60925902785e",
        "colab": {
          "base_uri": "https://localhost:8080/"
        }
      },
      "execution_count": 2,
      "outputs": [
        {
          "output_type": "stream",
          "name": "stdout",
          "text": [
            "Found 3115 files belonging to 36 classes.\n",
            "Found 351 files belonging to 36 classes.\n",
            "Downloading data from https://storage.googleapis.com/tensorflow/keras-applications/vgg19/vgg19_weights_tf_dim_ordering_tf_kernels_notop.h5\n",
            "80134624/80134624 [==============================] - 1s 0us/step\n",
            "Model: \"model\"\n",
            "_________________________________________________________________\n",
            " Layer (type)                Output Shape              Param #   \n",
            "=================================================================\n",
            " input_1 (InputLayer)        [(None, 224, 224, 3)]     0         \n",
            "                                                                 \n",
            " block1_conv1 (Conv2D)       (None, 224, 224, 64)      1792      \n",
            "                                                                 \n",
            " block1_conv2 (Conv2D)       (None, 224, 224, 64)      36928     \n",
            "                                                                 \n",
            " block1_pool (MaxPooling2D)  (None, 112, 112, 64)      0         \n",
            "                                                                 \n",
            " block2_conv1 (Conv2D)       (None, 112, 112, 128)     73856     \n",
            "                                                                 \n",
            " block2_conv2 (Conv2D)       (None, 112, 112, 128)     147584    \n",
            "                                                                 \n",
            " block2_pool (MaxPooling2D)  (None, 56, 56, 128)       0         \n",
            "                                                                 \n",
            " block3_conv1 (Conv2D)       (None, 56, 56, 256)       295168    \n",
            "                                                                 \n",
            " block3_conv2 (Conv2D)       (None, 56, 56, 256)       590080    \n",
            "                                                                 \n",
            " block3_conv3 (Conv2D)       (None, 56, 56, 256)       590080    \n",
            "                                                                 \n",
            " block3_conv4 (Conv2D)       (None, 56, 56, 256)       590080    \n",
            "                                                                 \n",
            " block3_pool (MaxPooling2D)  (None, 28, 28, 256)       0         \n",
            "                                                                 \n",
            " block4_conv1 (Conv2D)       (None, 28, 28, 512)       1180160   \n",
            "                                                                 \n",
            " block4_conv2 (Conv2D)       (None, 28, 28, 512)       2359808   \n",
            "                                                                 \n",
            " block4_conv3 (Conv2D)       (None, 28, 28, 512)       2359808   \n",
            "                                                                 \n",
            " block4_conv4 (Conv2D)       (None, 28, 28, 512)       2359808   \n",
            "                                                                 \n",
            " block4_pool (MaxPooling2D)  (None, 14, 14, 512)       0         \n",
            "                                                                 \n",
            " block5_conv1 (Conv2D)       (None, 14, 14, 512)       2359808   \n",
            "                                                                 \n",
            " block5_conv2 (Conv2D)       (None, 14, 14, 512)       2359808   \n",
            "                                                                 \n",
            " block5_conv3 (Conv2D)       (None, 14, 14, 512)       2359808   \n",
            "                                                                 \n",
            " block5_conv4 (Conv2D)       (None, 14, 14, 512)       2359808   \n",
            "                                                                 \n",
            " block5_pool (MaxPooling2D)  (None, 7, 7, 512)         0         \n",
            "                                                                 \n",
            " flatten (Flatten)           (None, 25088)             0         \n",
            "                                                                 \n",
            " dense (Dense)               (None, 100)               2508900   \n",
            "                                                                 \n",
            " dense_1 (Dense)             (None, 100)               10100     \n",
            "                                                                 \n",
            " dense_2 (Dense)             (None, 100)               10100     \n",
            "                                                                 \n",
            " dense_3 (Dense)             (None, 36)                3636      \n",
            "                                                                 \n",
            "=================================================================\n",
            "Total params: 22557120 (86.05 MB)\n",
            "Trainable params: 22557120 (86.05 MB)\n",
            "Non-trainable params: 0 (0.00 Byte)\n",
            "_________________________________________________________________\n"
          ]
        }
      ]
    },
    {
      "cell_type": "code",
      "source": [
        "for layer in conv_model.layers:\n",
        "    layer.trainable = False"
      ],
      "metadata": {
        "id": "tjwbEOKsy8Sh"
      },
      "execution_count": 3,
      "outputs": []
    },
    {
      "cell_type": "code",
      "source": [
        "full_model.compile(loss='binary_crossentropy',\n",
        "                  optimizer=tf.keras.optimizers.Adamax(learning_rate=0.001),\n",
        "                  metrics=['accuracy'])\n",
        "\n",
        "history = full_model.fit(\n",
        "    training_set,\n",
        "    validation_data = validation_set,\n",
        "    workers=10,\n",
        "    epochs=7,\n",
        ")"
      ],
      "metadata": {
        "id": "h3asPRel0Pb8",
        "outputId": "9f414296-0da7-4bae-8679-5a4852601bbb",
        "colab": {
          "base_uri": "https://localhost:8080/"
        }
      },
      "execution_count": 4,
      "outputs": [
        {
          "output_type": "stream",
          "name": "stdout",
          "text": [
            "Epoch 1/7\n",
            "98/98 [==============================] - 3013s 30s/step - loss: 0.3317 - accuracy: 0.1175 - val_loss: 0.1031 - val_accuracy: 0.4188\n",
            "Epoch 2/7\n",
            "98/98 [==============================] - 3064s 31s/step - loss: 0.1033 - accuracy: 0.4083 - val_loss: 0.0567 - val_accuracy: 0.7379\n",
            "Epoch 3/7\n",
            "98/98 [==============================] - 2930s 30s/step - loss: 0.0640 - accuracy: 0.6533 - val_loss: 0.0388 - val_accuracy: 0.8490\n",
            "Epoch 4/7\n",
            "98/98 [==============================] - 2895s 29s/step - loss: 0.0444 - accuracy: 0.8128 - val_loss: 0.0292 - val_accuracy: 0.9145\n",
            "Epoch 5/7\n",
            "98/98 [==============================] - 2892s 29s/step - loss: 0.0327 - accuracy: 0.8992 - val_loss: 0.0226 - val_accuracy: 0.9459\n",
            "Epoch 6/7\n",
            "98/98 [==============================] - 2913s 30s/step - loss: 0.0244 - accuracy: 0.9358 - val_loss: 0.0186 - val_accuracy: 0.9459\n",
            "Epoch 7/7\n",
            "98/98 [==============================] - 2867s 29s/step - loss: 0.0185 - accuracy: 0.9579 - val_loss: 0.0162 - val_accuracy: 0.9516\n"
          ]
        }
      ]
    },
    {
      "cell_type": "code",
      "source": [
        "full_model.save_weights('/content/drive/MyDrive/MODEL_VGG19.h5')"
      ],
      "metadata": {
        "id": "iX6ServbMzWo"
      },
      "execution_count": 5,
      "outputs": []
    },
    {
      "cell_type": "code",
      "source": [
        "full_model.save('/content/drive/MyDrive/MODEL_VGG19_WWWW.keras')"
      ],
      "metadata": {
        "id": "ilFoO3oUiH-C"
      },
      "execution_count": 7,
      "outputs": []
    },
    {
      "cell_type": "code",
      "source": [
        "full_model.save('/content/drive/MyDrive/MODEL_VGG19_W.h5')"
      ],
      "metadata": {
        "id": "h2PoDzjviMwJ",
        "outputId": "bd7061e7-9cdf-4b3d-dc4d-3b1d8fa7ec15",
        "colab": {
          "base_uri": "https://localhost:8080/"
        }
      },
      "execution_count": 8,
      "outputs": [
        {
          "output_type": "stream",
          "name": "stderr",
          "text": [
            "/usr/local/lib/python3.10/dist-packages/keras/src/engine/training.py:3103: UserWarning: You are saving your model as an HDF5 file via `model.save()`. This file format is considered legacy. We recommend using instead the native Keras format, e.g. `model.save('my_model.keras')`.\n",
            "  saving_api.save_model(\n"
          ]
        }
      ]
    },
    {
      "cell_type": "code",
      "source": [
        "import json\n",
        "\n",
        "with open('/content/drive/MyDrive/train_history_VGG19', 'w') as f:\n",
        "  json.dump(history.history, f)"
      ],
      "metadata": {
        "id": "IIgP462RlaDH"
      },
      "execution_count": 12,
      "outputs": []
    },
    {
      "cell_type": "markdown",
      "source": [
        "##**Создание модели**"
      ],
      "metadata": {
        "id": "iNGMqef5n60S"
      }
    },
    {
      "cell_type": "code",
      "source": [
        "import tensorflow as tf\n",
        "import numpy as np\n",
        "import matplotlib.pyplot as plt\n",
        "\n"
      ],
      "metadata": {
        "id": "K23VZloj1uYR"
      },
      "execution_count": null,
      "outputs": []
    },
    {
      "cell_type": "code",
      "source": [
        "w, h = 128, 128\n",
        "\n",
        "training_set = tf.keras.utils.image_dataset_from_directory(\n",
        "    '/content/drive/MyDrive/Fruits_and_Vegetables_Datset/train',\n",
        "    labels='inferred',  # Формирование уровней на основе структуры датасета (яблоко, бананы и тд)\n",
        "    label_mode='categorical',  # Режим уровней и создание (в данном случае) векторной формы уровней\n",
        "    class_names=None,  # Список классов (папки итак отсортированы, можно не ставить)\n",
        "    color_mode='rgb',  # Режим картинок\n",
        "    batch_size=32,\n",
        "    image_size=(w, h),\n",
        "    shuffle=True,\n",
        "    seed=42,  # Смысл жизни\n",
        "    validation_split=None,\n",
        "    subset=None,\n",
        "    interpolation='bilinear',  # Нужно для алгоритма сжатия картинок\n",
        "    follow_links=False,  # Переход по символьным ссылкам папок нахер\n",
        "    crop_to_aspect_ratio=False  # обрезать тоже не надо\n",
        ")\n",
        "\n",
        "validation_set = tf.keras.utils.image_dataset_from_directory(\n",
        "    '/content/drive/MyDrive/Fruits_and_Vegetables_Datset/validation',\n",
        "    labels='inferred',  # Формирование уровней на основе структуры датасета (яблоко, бананы и тд)\n",
        "    label_mode='categorical',  # Режим уровней и создание (в данном случае) векторной формы уровней\n",
        "    class_names=None,  # Список классов (папки итак отсортированы, можно не ставить)\n",
        "    color_mode='rgb',  # Режим картинок\n",
        "    batch_size=32,\n",
        "    image_size=(w, h),\n",
        "    shuffle=True,\n",
        "    seed=42,  # Смысл жизни\n",
        "    validation_split=None,\n",
        "    subset=None,\n",
        "    interpolation='bilinear',  # Нужно для алгоритма сжатия картинок\n",
        "    follow_links=False,  # Переход по символьным ссылкам папок нахер\n",
        "    crop_to_aspect_ratio=False  # обрезать тоже не надо\n",
        ")"
      ],
      "metadata": {
        "colab": {
          "base_uri": "https://localhost:8080/"
        },
        "id": "w_Paa3SRugV-",
        "outputId": "00a731cd-6a0d-4f99-fb0d-7c5f18ce5da3"
      },
      "execution_count": null,
      "outputs": [
        {
          "output_type": "stream",
          "name": "stdout",
          "text": [
            "Found 3152 files belonging to 36 classes.\n",
            "Found 351 files belonging to 36 classes.\n"
          ]
        }
      ]
    },
    {
      "cell_type": "markdown",
      "source": [
        "##Создание модели"
      ],
      "metadata": {
        "id": "FAv-xRYe8we9"
      }
    },
    {
      "cell_type": "code",
      "source": [
        "seq_model = tf.keras.models.Sequential()"
      ],
      "metadata": {
        "id": "4JktdueK2vb4"
      },
      "execution_count": null,
      "outputs": []
    },
    {
      "cell_type": "markdown",
      "source": [
        "###Создание слоев"
      ],
      "metadata": {
        "id": "Qc02zgk18uDo"
      }
    },
    {
      "cell_type": "code",
      "source": [
        "seq_model.add(tf.keras.layers.Conv2D(\n",
        "    filters=32,  # Опционально\n",
        "    kernel_size=3,\n",
        "    padding='same',\n",
        "    activation='relu',\n",
        "    input_shape=[w, h, 3],\n",
        "))\n",
        "\n",
        "seq_model.add(tf.keras.layers.Conv2D(filters=32, kernel_size=3, activation='relu'))\n",
        "\n",
        "seq_model.add(tf.keras.layers.MaxPool2D(\n",
        "    pool_size=2,\n",
        "    strides=2\n",
        "))"
      ],
      "metadata": {
        "id": "ZPakjUir41o_"
      },
      "execution_count": null,
      "outputs": []
    },
    {
      "cell_type": "code",
      "source": [
        "seq_model.add(tf.keras.layers.Dropout(0.25))"
      ],
      "metadata": {
        "id": "BXe5uqQhqiBi"
      },
      "execution_count": null,
      "outputs": []
    },
    {
      "cell_type": "code",
      "source": [
        "seq_model.add(tf.keras.layers.Conv2D(\n",
        "    filters=64,\n",
        "    kernel_size=3,\n",
        "    padding='same',\n",
        "    activation='relu',\n",
        "))\n",
        "\n",
        "seq_model.add(tf.keras.layers.Conv2D(\n",
        "    filters=64,\n",
        "    kernel_size=3,\n",
        "    activation='relu',\n",
        "))\n",
        "\n",
        "seq_model.add(tf.keras.layers.MaxPool2D(\n",
        "    pool_size=2,\n",
        "    strides=2\n",
        "))"
      ],
      "metadata": {
        "id": "uhfLqYJx64_9"
      },
      "execution_count": null,
      "outputs": []
    },
    {
      "cell_type": "code",
      "source": [
        "seq_model.add(tf.keras.layers.Dropout(0.25))"
      ],
      "metadata": {
        "id": "GTdUooWOqwV1"
      },
      "execution_count": null,
      "outputs": []
    },
    {
      "cell_type": "code",
      "source": [
        "seq_model.add(tf.keras.layers.Flatten())"
      ],
      "metadata": {
        "id": "LJ0O564d7ljA"
      },
      "execution_count": null,
      "outputs": []
    },
    {
      "cell_type": "code",
      "source": [
        "seq_model.add(tf.keras.layers.Dense(\n",
        "    units=256,  # Опционально\n",
        "    activation='relu'\n",
        "))\n",
        "\n",
        "seq_model.add(tf.keras.layers.Dense(\n",
        "    units=128,  # Опционально\n",
        "    activation='relu'\n",
        "))"
      ],
      "metadata": {
        "id": "NSvJm0ZT7w8r"
      },
      "execution_count": null,
      "outputs": []
    },
    {
      "cell_type": "code",
      "source": [
        "seq_model.add(tf.keras.layers.Dropout(0.5))  # Чтобы избежать переобучения"
      ],
      "metadata": {
        "id": "snEuSWrYjVC9"
      },
      "execution_count": null,
      "outputs": []
    },
    {
      "cell_type": "code",
      "source": [
        "seq_model.add(tf.keras.layers.Dense(units=36, activation='softmax'))  # Выходной слой. 36 потому что у нас 36 классов!!!"
      ],
      "metadata": {
        "id": "96iUr6AF8KQu"
      },
      "execution_count": null,
      "outputs": []
    },
    {
      "cell_type": "markdown",
      "source": [
        "###Обучение модели"
      ],
      "metadata": {
        "id": "f8_l_cuS8_Nd"
      }
    },
    {
      "cell_type": "code",
      "source": [
        "# my_optimizer = 'adam'\n",
        "my_optimizer = tf.keras.optimizers.Adadelta()\n",
        "\n",
        "seq_model.compile(optimizer=my_optimizer, loss='categorical_crossentropy', metrics=['accuracy'])"
      ],
      "metadata": {
        "id": "1wxZkQCa8rnJ"
      },
      "execution_count": null,
      "outputs": []
    },
    {
      "cell_type": "code",
      "source": [
        "seq_model.summary()"
      ],
      "metadata": {
        "colab": {
          "base_uri": "https://localhost:8080/"
        },
        "id": "VvpcEQ4djrn9",
        "outputId": "f13933c0-5cce-4ee8-cafe-60d88ca3a792"
      },
      "execution_count": null,
      "outputs": [
        {
          "output_type": "stream",
          "name": "stdout",
          "text": [
            "Model: \"sequential_1\"\n",
            "_________________________________________________________________\n",
            " Layer (type)                Output Shape              Param #   \n",
            "=================================================================\n",
            " conv2d_4 (Conv2D)           (None, 128, 128, 32)      896       \n",
            "                                                                 \n",
            " conv2d_5 (Conv2D)           (None, 126, 126, 32)      9248      \n",
            "                                                                 \n",
            " max_pooling2d_2 (MaxPoolin  (None, 63, 63, 32)        0         \n",
            " g2D)                                                            \n",
            "                                                                 \n",
            " dropout_3 (Dropout)         (None, 63, 63, 32)        0         \n",
            "                                                                 \n",
            " conv2d_6 (Conv2D)           (None, 63, 63, 64)        18496     \n",
            "                                                                 \n",
            " conv2d_7 (Conv2D)           (None, 61, 61, 64)        36928     \n",
            "                                                                 \n",
            " max_pooling2d_3 (MaxPoolin  (None, 30, 30, 64)        0         \n",
            " g2D)                                                            \n",
            "                                                                 \n",
            " dropout_4 (Dropout)         (None, 30, 30, 64)        0         \n",
            "                                                                 \n",
            " flatten_1 (Flatten)         (None, 57600)             0         \n",
            "                                                                 \n",
            " dense_3 (Dense)             (None, 256)               14745856  \n",
            "                                                                 \n",
            " dense_4 (Dense)             (None, 128)               32896     \n",
            "                                                                 \n",
            " dropout_5 (Dropout)         (None, 128)               0         \n",
            "                                                                 \n",
            " dense_5 (Dense)             (None, 36)                4644      \n",
            "                                                                 \n",
            "=================================================================\n",
            "Total params: 14848964 (56.64 MB)\n",
            "Trainable params: 14848964 (56.64 MB)\n",
            "Non-trainable params: 0 (0.00 Byte)\n",
            "_________________________________________________________________\n"
          ]
        }
      ]
    },
    {
      "cell_type": "code",
      "source": [
        "train_history = seq_model.fit(x=training_set, validation_data=validation_set, epochs=35)"
      ],
      "metadata": {
        "colab": {
          "base_uri": "https://localhost:8080/",
          "height": 391
        },
        "id": "1IFDWeKj9nR5",
        "outputId": "6c87dc69-c3d7-4c75-8ae9-ba01b85f0578"
      },
      "execution_count": null,
      "outputs": [
        {
          "output_type": "stream",
          "name": "stdout",
          "text": [
            "Epoch 1/35\n",
            "99/99 [==============================] - 525s 5s/step - loss: 34.6497 - accuracy: 0.0270 - val_loss: 6.6567 - val_accuracy: 0.0199\n",
            "Epoch 2/35\n",
            "99/99 [==============================] - 368s 4s/step - loss: 18.5195 - accuracy: 0.0286 - val_loss: 5.5751 - val_accuracy: 0.0171\n",
            "Epoch 3/35\n",
            "99/99 [==============================] - 346s 3s/step - loss: 14.3419 - accuracy: 0.0320 - val_loss: 4.9643 - val_accuracy: 0.0199\n"
          ]
        },
        {
          "output_type": "error",
          "ename": "KeyboardInterrupt",
          "evalue": "",
          "traceback": [
            "\u001b[0;31m---------------------------------------------------------------------------\u001b[0m",
            "\u001b[0;31mKeyboardInterrupt\u001b[0m                         Traceback (most recent call last)",
            "\u001b[0;32m<ipython-input-29-9511966aeb5f>\u001b[0m in \u001b[0;36m<cell line: 1>\u001b[0;34m()\u001b[0m\n\u001b[0;32m----> 1\u001b[0;31m \u001b[0mtrain_history\u001b[0m \u001b[0;34m=\u001b[0m \u001b[0mseq_model\u001b[0m\u001b[0;34m.\u001b[0m\u001b[0mfit\u001b[0m\u001b[0;34m(\u001b[0m\u001b[0mx\u001b[0m\u001b[0;34m=\u001b[0m\u001b[0mtraining_set\u001b[0m\u001b[0;34m,\u001b[0m \u001b[0mvalidation_data\u001b[0m\u001b[0;34m=\u001b[0m\u001b[0mvalidation_set\u001b[0m\u001b[0;34m,\u001b[0m \u001b[0mepochs\u001b[0m\u001b[0;34m=\u001b[0m\u001b[0;36m35\u001b[0m\u001b[0;34m)\u001b[0m\u001b[0;34m\u001b[0m\u001b[0;34m\u001b[0m\u001b[0m\n\u001b[0m",
            "\u001b[0;32m/usr/local/lib/python3.10/dist-packages/keras/src/utils/traceback_utils.py\u001b[0m in \u001b[0;36merror_handler\u001b[0;34m(*args, **kwargs)\u001b[0m\n\u001b[1;32m     63\u001b[0m         \u001b[0mfiltered_tb\u001b[0m \u001b[0;34m=\u001b[0m \u001b[0;32mNone\u001b[0m\u001b[0;34m\u001b[0m\u001b[0;34m\u001b[0m\u001b[0m\n\u001b[1;32m     64\u001b[0m         \u001b[0;32mtry\u001b[0m\u001b[0;34m:\u001b[0m\u001b[0;34m\u001b[0m\u001b[0;34m\u001b[0m\u001b[0m\n\u001b[0;32m---> 65\u001b[0;31m             \u001b[0;32mreturn\u001b[0m \u001b[0mfn\u001b[0m\u001b[0;34m(\u001b[0m\u001b[0;34m*\u001b[0m\u001b[0margs\u001b[0m\u001b[0;34m,\u001b[0m \u001b[0;34m**\u001b[0m\u001b[0mkwargs\u001b[0m\u001b[0;34m)\u001b[0m\u001b[0;34m\u001b[0m\u001b[0;34m\u001b[0m\u001b[0m\n\u001b[0m\u001b[1;32m     66\u001b[0m         \u001b[0;32mexcept\u001b[0m \u001b[0mException\u001b[0m \u001b[0;32mas\u001b[0m \u001b[0me\u001b[0m\u001b[0;34m:\u001b[0m\u001b[0;34m\u001b[0m\u001b[0;34m\u001b[0m\u001b[0m\n\u001b[1;32m     67\u001b[0m             \u001b[0mfiltered_tb\u001b[0m \u001b[0;34m=\u001b[0m \u001b[0m_process_traceback_frames\u001b[0m\u001b[0;34m(\u001b[0m\u001b[0me\u001b[0m\u001b[0;34m.\u001b[0m\u001b[0m__traceback__\u001b[0m\u001b[0;34m)\u001b[0m\u001b[0;34m\u001b[0m\u001b[0;34m\u001b[0m\u001b[0m\n",
            "\u001b[0;32m/usr/local/lib/python3.10/dist-packages/keras/src/engine/training.py\u001b[0m in \u001b[0;36mfit\u001b[0;34m(self, x, y, batch_size, epochs, verbose, callbacks, validation_split, validation_data, shuffle, class_weight, sample_weight, initial_epoch, steps_per_epoch, validation_steps, validation_batch_size, validation_freq, max_queue_size, workers, use_multiprocessing)\u001b[0m\n\u001b[1;32m   1793\u001b[0m             \u001b[0mlogs\u001b[0m \u001b[0;34m=\u001b[0m \u001b[0;32mNone\u001b[0m\u001b[0;34m\u001b[0m\u001b[0;34m\u001b[0m\u001b[0m\n\u001b[1;32m   1794\u001b[0m             \u001b[0;32mfor\u001b[0m \u001b[0mepoch\u001b[0m\u001b[0;34m,\u001b[0m \u001b[0miterator\u001b[0m \u001b[0;32min\u001b[0m \u001b[0mdata_handler\u001b[0m\u001b[0;34m.\u001b[0m\u001b[0menumerate_epochs\u001b[0m\u001b[0;34m(\u001b[0m\u001b[0;34m)\u001b[0m\u001b[0;34m:\u001b[0m\u001b[0;34m\u001b[0m\u001b[0;34m\u001b[0m\u001b[0m\n\u001b[0;32m-> 1795\u001b[0;31m                 \u001b[0mself\u001b[0m\u001b[0;34m.\u001b[0m\u001b[0mreset_metrics\u001b[0m\u001b[0;34m(\u001b[0m\u001b[0;34m)\u001b[0m\u001b[0;34m\u001b[0m\u001b[0;34m\u001b[0m\u001b[0m\n\u001b[0m\u001b[1;32m   1796\u001b[0m                 \u001b[0mcallbacks\u001b[0m\u001b[0;34m.\u001b[0m\u001b[0mon_epoch_begin\u001b[0m\u001b[0;34m(\u001b[0m\u001b[0mepoch\u001b[0m\u001b[0;34m)\u001b[0m\u001b[0;34m\u001b[0m\u001b[0;34m\u001b[0m\u001b[0m\n\u001b[1;32m   1797\u001b[0m                 \u001b[0;32mwith\u001b[0m \u001b[0mdata_handler\u001b[0m\u001b[0;34m.\u001b[0m\u001b[0mcatch_stop_iteration\u001b[0m\u001b[0;34m(\u001b[0m\u001b[0;34m)\u001b[0m\u001b[0;34m:\u001b[0m\u001b[0;34m\u001b[0m\u001b[0;34m\u001b[0m\u001b[0m\n",
            "\u001b[0;32m/usr/local/lib/python3.10/dist-packages/keras/src/engine/training.py\u001b[0m in \u001b[0;36mreset_metrics\u001b[0;34m(self)\u001b[0m\n\u001b[1;32m   2701\u001b[0m         \u001b[0;32mreturn\u001b[0m \u001b[0mtf_utils\u001b[0m\u001b[0;34m.\u001b[0m\u001b[0msync_to_numpy_or_python_type\u001b[0m\u001b[0;34m(\u001b[0m\u001b[0mall_outputs\u001b[0m\u001b[0;34m)\u001b[0m\u001b[0;34m\u001b[0m\u001b[0;34m\u001b[0m\u001b[0m\n\u001b[1;32m   2702\u001b[0m \u001b[0;34m\u001b[0m\u001b[0m\n\u001b[0;32m-> 2703\u001b[0;31m     \u001b[0;32mdef\u001b[0m \u001b[0mreset_metrics\u001b[0m\u001b[0;34m(\u001b[0m\u001b[0mself\u001b[0m\u001b[0;34m)\u001b[0m\u001b[0;34m:\u001b[0m\u001b[0;34m\u001b[0m\u001b[0;34m\u001b[0m\u001b[0m\n\u001b[0m\u001b[1;32m   2704\u001b[0m         \"\"\"Resets the state of all the metrics in the model.\n\u001b[1;32m   2705\u001b[0m \u001b[0;34m\u001b[0m\u001b[0m\n",
            "\u001b[0;31mKeyboardInterrupt\u001b[0m: "
          ]
        }
      ]
    },
    {
      "cell_type": "code",
      "source": [
        "seq_model.save('trained_model_updated.h5')"
      ],
      "metadata": {
        "id": "Q1NF0Gz6-kic"
      },
      "execution_count": null,
      "outputs": []
    },
    {
      "cell_type": "code",
      "source": [
        "import json\n",
        "\n",
        "with open('train_history', 'w') as f:\n",
        "  json.dump(train_history.history, f)"
      ],
      "metadata": {
        "id": "iMeWyVjDWsgH"
      },
      "execution_count": null,
      "outputs": []
    },
    {
      "cell_type": "code",
      "source": [
        "print(f\"Точность модели = {train_history.history['val_accuracy'][-1] * 100:.2f}%\")"
      ],
      "metadata": {
        "colab": {
          "base_uri": "https://localhost:8080/"
        },
        "id": "rxu1RJCYXYz9",
        "outputId": "41cae962-f89b-4b73-80dc-baf311723a5d"
      },
      "execution_count": null,
      "outputs": [
        {
          "output_type": "stream",
          "name": "stdout",
          "text": [
            "Точность модели = 95.16%\n"
          ]
        }
      ]
    },
    {
      "cell_type": "code",
      "source": [
        "epochs = [i for i in range(1, 36)]\n",
        "\n",
        "plt.plot(epochs, train_history.history['accuracy'], color='r')\n",
        "plt.xlabel('Эпохи')\n",
        "plt.ylabel('Accuracy')\n",
        "plt.show();"
      ],
      "metadata": {
        "colab": {
          "base_uri": "https://localhost:8080/",
          "height": 449
        },
        "id": "io2RNkN0YOfe",
        "outputId": "07d88525-aaa2-4d72-c1b8-4c3b73220323"
      },
      "execution_count": null,
      "outputs": [
        {
          "output_type": "display_data",
          "data": {
            "text/plain": [
              "<Figure size 640x480 with 1 Axes>"
            ],
            "image/png": "[encoded data removed]"
          },
          "metadata": {}
        }
      ]
    },
    {
      "cell_type": "code",
      "source": [
        "plt.plot(epochs, train_history.history['val_accuracy'], color='b')\n",
        "plt.xlabel('Эпохи')\n",
        "plt.ylabel('Validation Accuracy')\n",
        "plt.show();"
      ],
      "metadata": {
        "colab": {
          "base_uri": "https://localhost:8080/",
          "height": 449
        },
        "id": "S5FGdW1DY8Cm",
        "outputId": "26300f62-1b61-4db6-ccd4-2439cc5dce2c"
      },
      "execution_count": null,
      "outputs": [
        {
          "output_type": "display_data",
          "data": {
            "text/plain": [
              "<Figure size 640x480 with 1 Axes>"
            ],
            "image/png": "[encoded data removed]"
          },
          "metadata": {}
        }
      ]
    },
    {
      "cell_type": "markdown",
      "source": [
        "##Загрузка модели и тест ее"
      ],
      "metadata": {
        "id": "dUsDwtNhZ0b6"
      }
    },
    {
      "cell_type": "code",
      "source": [
        "model = tf.keras.models.load_model('/content/trained_model_updated.h5')"
      ],
      "metadata": {
        "id": "sR3EQj2OZgrr"
      },
      "execution_count": null,
      "outputs": []
    },
    {
      "cell_type": "code",
      "source": [
        "image_path = '/content/i.webp'\n",
        "image = tf.keras.preprocessing.image.load_img(image_path, target_size=(64, 64))\n",
        "input_arr = tf.keras.preprocessing.image.img_to_array(image)\n",
        "input_arr = np.array([input_arr])  # В двумерную матрицу\n",
        "\n",
        "prediction = model.predict(input_arr)\n",
        "print(prediction[0])"
      ],
      "metadata": {
        "colab": {
          "base_uri": "https://localhost:8080/"
        },
        "id": "bj3xZ-OnaO_M",
        "outputId": "c48b181d-0e03-48c9-a8e5-89b09caa9569"
      },
      "execution_count": null,
      "outputs": [
        {
          "output_type": "stream",
          "name": "stdout",
          "text": [
            "1/1 [==============================] - 0s 49ms/step\n",
            "[7.03286378e-06 2.43377275e-04 4.55246573e-06 2.10757687e-04\n",
            " 2.82172238e-07 3.90843452e-05 6.60500769e-03 1.21239223e-08\n",
            " 4.71699906e-07 9.86566651e-04 2.99125986e-08 9.11170972e-10\n",
            " 6.66140849e-08 8.86245004e-07 5.62566072e-07 5.09376650e-06\n",
            " 8.28787279e-07 1.26622955e-03 1.72777004e-09 2.53893148e-07\n",
            " 1.08986974e-07 4.86476565e-05 9.14013526e-06 5.23818744e-06\n",
            " 3.09170896e-12 3.28422822e-02 6.32756855e-04 2.79723966e-10\n",
            " 1.10029141e-05 2.66433819e-10 7.70489852e-11 9.57071364e-01\n",
            " 9.99017709e-12 7.23175935e-06 7.34142304e-07 3.08251657e-07]\n"
          ]
        }
      ]
    },
    {
      "cell_type": "code",
      "source": [
        "result_index_of_prediction = np.where(prediction[0] == max(prediction[0]))\n",
        "\n",
        "test_set = tf.keras.utils.image_dataset_from_directory(\n",
        "    '/content/drive/MyDrive/Fruits_and_Vegetables_Datset/test',\n",
        "    labels='inferred',  # Формирование уровней на основе структуры датасета (яблоко, бананы и тд)\n",
        "    label_mode='categorical',  # Режим уровней и создание (в данном случае) векторной формы уровней\n",
        "    class_names=None,  # Список классов (папки итак отсортированы, можно не ставить)\n",
        "    color_mode='rgb',  # Режим картинок\n",
        "    batch_size=32,\n",
        "    image_size=(64, 64),\n",
        "    shuffle=True,\n",
        "    seed=42,  # Смысл жизни\n",
        "    validation_split=None,\n",
        "    subset=None,\n",
        "    interpolation='bilinear',  # Нужно для алгоритма сжатия картинок\n",
        "    follow_links=False,  # Переход по символьным ссылкам папок нахер\n",
        "    crop_to_aspect_ratio=False  # обрезать тоже не надо\n",
        ")\n",
        "\n",
        "print(f\"Result of prediction: \\nOn image is {test_set.class_names[result_index_of_prediction[0][0]]}\")"
      ],
      "metadata": {
        "colab": {
          "base_uri": "https://localhost:8080/"
        },
        "id": "ms9kaTYSbO0x",
        "outputId": "a03f7432-e6aa-43b2-c5fd-72a20ab268f7"
      },
      "execution_count": null,
      "outputs": [
        {
          "output_type": "stream",
          "name": "stdout",
          "text": [
            "Found 359 files belonging to 36 classes.\n",
            "Result of prediction: \n",
            "On image is sweetcorn\n"
          ]
        }
      ]
    },
    {
      "cell_type": "code",
      "source": [],
      "metadata": {
        "id": "LR619Yi9eT3C"
      },
      "execution_count": null,
      "outputs": []
    }
  ]
}